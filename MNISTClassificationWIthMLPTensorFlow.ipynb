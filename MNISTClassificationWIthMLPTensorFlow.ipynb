{
  "nbformat": 4,
  "nbformat_minor": 0,
  "metadata": {
    "colab": {
      "name": "MNISTClassificationWIthMLPTensorFlow.ipynb",
      "provenance": [],
      "collapsed_sections": []
    },
    "kernelspec": {
      "name": "python3",
      "display_name": "Python 3"
    }
  },
  "cells": [
    {
      "cell_type": "markdown",
      "metadata": {
        "id": "RJxjmIvvRf48",
        "colab_type": "text"
      },
      "source": [
        "<h1>MNIST Classification with multi-layer perceptron using Tensorflow </h1>"
      ]
    },
    {
      "cell_type": "code",
      "metadata": {
        "id": "p-qsaHqMK-Y-",
        "colab_type": "code",
        "colab": {}
      },
      "source": [
        "#!cat /proc/cpuinfo\n",
        "#!cat /proc/meminfo"
      ],
      "execution_count": 0,
      "outputs": []
    },
    {
      "cell_type": "code",
      "metadata": {
        "id": "94Tm7-FiLCai",
        "colab_type": "code",
        "colab": {}
      },
      "source": [
        ""
      ],
      "execution_count": 0,
      "outputs": []
    },
    {
      "cell_type": "code",
      "metadata": {
        "id": "Ibl0VAzrq6Y3",
        "colab_type": "code",
        "colab": {}
      },
      "source": [
        ""
      ],
      "execution_count": 0,
      "outputs": []
    },
    {
      "cell_type": "code",
      "metadata": {
        "id": "ta_Iol78LQny",
        "colab_type": "code",
        "colab": {}
      },
      "source": [
        "import tensorflow as tf"
      ],
      "execution_count": 0,
      "outputs": []
    },
    {
      "cell_type": "code",
      "metadata": {
        "id": "hrKxalAXpAsW",
        "colab_type": "code",
        "colab": {}
      },
      "source": [
        "import warnings\n",
        "warnings.filterwarnings('ignore')\n"
      ],
      "execution_count": 0,
      "outputs": []
    },
    {
      "cell_type": "code",
      "metadata": {
        "id": "ZqrZAZzfN9mO",
        "colab_type": "code",
        "colab": {}
      },
      "source": [
        "#import tensorflow_datasets as tfds\n",
        "#mnist_train = tfds.load(name=\"mnist\", split=\"train\")\n",
        "#assert isinstance(mnist_train, tf.data.Dataset)\n",
        "#print(mnist_train)"
      ],
      "execution_count": 0,
      "outputs": []
    },
    {
      "cell_type": "code",
      "metadata": {
        "id": "S93HOamUMb_Z",
        "colab_type": "code",
        "colab": {}
      },
      "source": [
        "# Tensor refer to high dimensional matrix"
      ],
      "execution_count": 0,
      "outputs": []
    },
    {
      "cell_type": "code",
      "metadata": {
        "id": "NoWp4SVMRBNz",
        "colab_type": "code",
        "colab": {}
      },
      "source": [
        ""
      ],
      "execution_count": 0,
      "outputs": []
    },
    {
      "cell_type": "code",
      "metadata": {
        "id": "G8ZIIB5xIuZS",
        "colab_type": "code",
        "colab": {
          "base_uri": "https://localhost:8080/",
          "height": 34
        },
        "outputId": "2e47b35e-bc8d-4e1a-b0f6-1788f42d46f0"
      },
      "source": [
        "tf.__version__\n"
      ],
      "execution_count": 47,
      "outputs": [
        {
          "output_type": "execute_result",
          "data": {
            "text/plain": [
              "'1.14.0'"
            ]
          },
          "metadata": {
            "tags": []
          },
          "execution_count": 47
        }
      ]
    },
    {
      "cell_type": "code",
      "metadata": {
        "id": "YSOTHNtoWPb4",
        "colab_type": "code",
        "outputId": "da091514-443c-46fa-c920-e5b07e16b0b0",
        "colab": {
          "base_uri": "https://localhost:8080/",
          "height": 84
        }
      },
      "source": [
        "# Import MINST data\n",
        "from tensorflow.examples.tutorials.mnist import input_data\n",
        "mnist = input_data.read_data_sets(\"/tmp/data/\", one_hot=True)"
      ],
      "execution_count": 48,
      "outputs": [
        {
          "output_type": "stream",
          "text": [
            "Extracting /tmp/data/train-images-idx3-ubyte.gz\n",
            "Extracting /tmp/data/train-labels-idx1-ubyte.gz\n",
            "Extracting /tmp/data/t10k-images-idx3-ubyte.gz\n",
            "Extracting /tmp/data/t10k-labels-idx1-ubyte.gz\n"
          ],
          "name": "stdout"
        }
      ]
    },
    {
      "cell_type": "code",
      "metadata": {
        "id": "8aNqBVhlWcLK",
        "colab_type": "code",
        "outputId": "f088b1a3-c00f-4c64-e3a3-b47fe59c7dcc",
        "colab": {
          "base_uri": "https://localhost:8080/",
          "height": 34
        }
      },
      "source": [
        "type(mnist)"
      ],
      "execution_count": 49,
      "outputs": [
        {
          "output_type": "execute_result",
          "data": {
            "text/plain": [
              "tensorflow.contrib.learn.python.learn.datasets.base.Datasets"
            ]
          },
          "metadata": {
            "tags": []
          },
          "execution_count": 49
        }
      ]
    },
    {
      "cell_type": "code",
      "metadata": {
        "id": "YlzeMXW1ou9c",
        "colab_type": "code",
        "colab": {}
      },
      "source": [
        ""
      ],
      "execution_count": 0,
      "outputs": []
    },
    {
      "cell_type": "code",
      "metadata": {
        "id": "QqSSU3FOWsIj",
        "colab_type": "code",
        "outputId": "7747fb4a-7021-4afe-b7e9-87be9cc300bc",
        "colab": {
          "base_uri": "https://localhost:8080/",
          "height": 34
        }
      },
      "source": [
        "type(mnist.train.images[0])"
      ],
      "execution_count": 50,
      "outputs": [
        {
          "output_type": "execute_result",
          "data": {
            "text/plain": [
              "numpy.ndarray"
            ]
          },
          "metadata": {
            "tags": []
          },
          "execution_count": 50
        }
      ]
    },
    {
      "cell_type": "code",
      "metadata": {
        "id": "8rzgk4OhpAOD",
        "colab_type": "code",
        "outputId": "49f92fc4-5f84-4100-c5f8-b2b4bfcdc57b",
        "colab": {
          "base_uri": "https://localhost:8080/",
          "height": 50
        }
      },
      "source": [
        "print(\"Number of training samples is:\",mnist.train.num_examples)\n",
        "print(\"Number of test samples is:\",mnist.test.num_examples)\n"
      ],
      "execution_count": 51,
      "outputs": [
        {
          "output_type": "stream",
          "text": [
            "Number of training samples is: 55000\n",
            "Number of test samples is: 10000\n"
          ],
          "name": "stdout"
        }
      ]
    },
    {
      "cell_type": "markdown",
      "metadata": {
        "id": "2Ms-rwtAW4O_",
        "colab_type": "text"
      },
      "source": [
        "<h3> Understanding Input and Output </h3>"
      ]
    },
    {
      "cell_type": "code",
      "metadata": {
        "id": "rStFJ2GHG4V9",
        "colab_type": "code",
        "colab": {
          "base_uri": "https://localhost:8080/",
          "height": 34
        },
        "outputId": "c3493bbc-fc2d-4c90-ff95-af879e3222fc"
      },
      "source": [
        "mnist.train.images[0].shape"
      ],
      "execution_count": 52,
      "outputs": [
        {
          "output_type": "execute_result",
          "data": {
            "text/plain": [
              "(784,)"
            ]
          },
          "metadata": {
            "tags": []
          },
          "execution_count": 52
        }
      ]
    },
    {
      "cell_type": "markdown",
      "metadata": {
        "id": "18F3teLMRJ5b",
        "colab_type": "text"
      },
      "source": [
        "So input is basically a 784 dimension vector which is essentially a 28 x 28 matrix of image flattened. To visualise the image we reshape it to 28 x 28 and observe it using matplotlib"
      ]
    },
    {
      "cell_type": "code",
      "metadata": {
        "id": "3zwD5HUgXEWc",
        "colab_type": "code",
        "colab": {}
      },
      "source": [
        "sample =mnist.train.images[0].reshape(28,28)"
      ],
      "execution_count": 0,
      "outputs": []
    },
    {
      "cell_type": "code",
      "metadata": {
        "id": "z_R5bJRzXPlF",
        "colab_type": "code",
        "colab": {}
      },
      "source": [
        "import matplotlib.pyplot as plt\n",
        "%matplotlib inline"
      ],
      "execution_count": 0,
      "outputs": []
    },
    {
      "cell_type": "code",
      "metadata": {
        "id": "f6_8oTasXU2o",
        "colab_type": "code",
        "outputId": "c042571c-0be1-46ea-f4d9-7fc0714db2ca",
        "colab": {
          "base_uri": "https://localhost:8080/",
          "height": 286
        }
      },
      "source": [
        "plt.imshow(sample)"
      ],
      "execution_count": 55,
      "outputs": [
        {
          "output_type": "execute_result",
          "data": {
            "text/plain": [
              "<matplotlib.image.AxesImage at 0x7f9294b23550>"
            ]
          },
          "metadata": {
            "tags": []
          },
          "execution_count": 55
        },
        {
          "output_type": "display_data",
          "data": {
            "image/png": "[encoded data removed]",
            "text/plain": [
              "<Figure size 432x288 with 1 Axes>"
            ]
          },
          "metadata": {
            "tags": []
          }
        }
      ]
    },
    {
      "cell_type": "code",
      "metadata": {
        "id": "5Gnru2RoXXP9",
        "colab_type": "code",
        "colab": {
          "base_uri": "https://localhost:8080/",
          "height": 34
        },
        "outputId": "bf7114fe-8acc-49ac-f522-4617879562af"
      },
      "source": [
        "mnist.train.labels[0]"
      ],
      "execution_count": 56,
      "outputs": [
        {
          "output_type": "execute_result",
          "data": {
            "text/plain": [
              "array([0., 0., 0., 0., 0., 0., 0., 1., 0., 0.])"
            ]
          },
          "metadata": {
            "tags": []
          },
          "execution_count": 56
        }
      ]
    },
    {
      "cell_type": "markdown",
      "metadata": {
        "id": "YDK4UV42R32N",
        "colab_type": "text"
      },
      "source": [
        "Output is a one hot vector with 1 at position 8 and all other elements zero, which essentially indicates that the image represents number 8"
      ]
    },
    {
      "cell_type": "markdown",
      "metadata": {
        "id": "yZ1IA-pBTDMk",
        "colab_type": "text"
      },
      "source": [
        "The entire purpose of TensorFlow is to have a so-called computational graph that can be executed much more efficiently than if the same calculations were to be performed directly in Python. TensorFlow can be more efficient than NumPy because TensorFlow knows the entire computation graph that must be executed, while NumPy only knows the computation of a single mathematical operation at a time.\n"
      ]
    },
    {
      "cell_type": "markdown",
      "metadata": {
        "id": "uwNtmyIiU9GO",
        "colab_type": "text"
      },
      "source": [
        "So what does computation graph mean? It is graph with nodes being computation units(add,subtract, etc) and edges being flow of Tensors (multidimensional arrays). \n",
        "A TensorFlow graph consists of the following parts:\n",
        "\n",
        "* Placeholder variables used to feed input into the graph.\n",
        "* Model variables that are going to be optimized so as to make the model perform better.\n",
        "* The model which is essentially just a mathematical function that calculates some output given the input in the placeholder variables and the model variables.\n",
        "* A cost measure that can be used to guide the optimization of the variables.\n",
        "* An optimization method which updates the variables of the model.\n",
        "\n",
        "Tensorflow approaches series of computations(mathematical operations) as a flow of data through this graph. Tensorflow builds the computation graph before it starts execution, so the computations are scheduled only when it is absolutely necessary (lazy programming). The graph is not actually executed when the nodes are defined. After the graph is assembled, it is deployed and executed in a Session, which is a run-time environment that binds the hardware it is going to run in.\n",
        "\n",
        "References:\n",
        "deepnotes.io ,\n",
        "www.hvass-labs.org"
      ]
    },
    {
      "cell_type": "markdown",
      "metadata": {
        "id": "Uxl3fSn5bPay",
        "colab_type": "text"
      },
      "source": [
        "<h3>Placeholder Variable</h3>"
      ]
    },
    {
      "cell_type": "markdown",
      "metadata": {
        "id": "rSrAjmO4idt0",
        "colab_type": "text"
      },
      "source": [
        "These are the input variables to graph"
      ]
    },
    {
      "cell_type": "code",
      "metadata": {
        "id": "YZpQbsLtSWnh",
        "colab_type": "code",
        "colab": {}
      },
      "source": [
        "n_input = 784 # MNIST data input (img shape: 28*28)\n",
        "n_classes = 10 # MNIST total classes (0-9 digits)\n"
      ],
      "execution_count": 0,
      "outputs": []
    },
    {
      "cell_type": "code",
      "metadata": {
        "id": "5jMz1I9lZBud",
        "colab_type": "code",
        "colab": {}
      },
      "source": [
        "#Setting up placeholder variables for inputs\n",
        "\n",
        "#Placeholder variable for input image, each entry of datatype float, and shape is [None, n_input]. None implies it can hold\n",
        "#arbitrary number of images and each image is a vector of length n_input \n",
        "x = tf.placeholder(\"float\" , [None, n_input])\n",
        "\n",
        "#Placeholder variable for true label of input image, each entry of datatype float, and shape is [None, n_classes]. None implies it can hold\n",
        "#arbitrary number of labels and each label is a vector of length n_label i.e 10  \n",
        "\n",
        "y = tf.placeholder(\"float\" , [None, n_classes])"
      ],
      "execution_count": 0,
      "outputs": []
    },
    {
      "cell_type": "markdown",
      "metadata": {
        "id": "oUVWB2KrbzZF",
        "colab_type": "text"
      },
      "source": [
        "<h3> Variables to be Optimized </h3>"
      ]
    },
    {
      "cell_type": "markdown",
      "metadata": {
        "id": "-ZVTd8QYiTIQ",
        "colab_type": "text"
      },
      "source": [
        "These are the model variables, which must be changed by TensorFlow using some optimization technique so that model will perform better"
      ]
    },
    {
      "cell_type": "code",
      "metadata": {
        "id": "FMzwGTDaYTJf",
        "colab_type": "code",
        "colab": {}
      },
      "source": [
        "n_hidden_1 = 256 # 1st layer number of features\n",
        "n_hidden_2 = 256 # 2nd layer number of features\n",
        "n_samples = mnist.train.num_examples"
      ],
      "execution_count": 0,
      "outputs": []
    },
    {
      "cell_type": "code",
      "metadata": {
        "id": "lga_am4IYjrO",
        "colab_type": "code",
        "colab": {}
      },
      "source": [
        "weights={\n",
        "    \n",
        "    'w1' : tf.Variable(tf.random_normal([n_input, n_hidden_1])),\n",
        "    'w2' : tf.Variable(tf.random_normal([n_hidden_1, n_hidden_2])),\n",
        "    'out' : tf.Variable(tf.random_normal([n_hidden_2, n_classes]))\n",
        "    \n",
        "}"
      ],
      "execution_count": 0,
      "outputs": []
    },
    {
      "cell_type": "code",
      "metadata": {
        "id": "37x4ao2RYjZb",
        "colab_type": "code",
        "colab": {}
      },
      "source": [
        "biases = {\n",
        "    \n",
        "    'b1': tf.Variable(tf.random_normal([n_hidden_1])),\n",
        "    'b2': tf.Variable(tf.random_normal([n_hidden_2])),\n",
        "    'out': tf.Variable(tf.random_normal([n_classes])),\n",
        "}"
      ],
      "execution_count": 0,
      "outputs": []
    },
    {
      "cell_type": "markdown",
      "metadata": {
        "id": "UVFNC6W1izNr",
        "colab_type": "text"
      },
      "source": [
        "<h3> Model </h3>"
      ]
    },
    {
      "cell_type": "markdown",
      "metadata": {
        "id": "bVMFXCjii5Cg",
        "colab_type": "text"
      },
      "source": [
        "Our approximation of the true relation between input and output.Here we use MultilayerPerceptron as our model"
      ]
    },
    {
      "cell_type": "code",
      "metadata": {
        "id": "3ne4ns62YbJ6",
        "colab_type": "code",
        "colab": {}
      },
      "source": [
        "def MultilayerPerceptron(x, weights, biases):\n",
        "  \n",
        "  \n",
        "  #First hidden layer with ReLU activation function\n",
        "  layer_1 = tf.add(tf.matmul(x,weights['w1']) , biases['b1'] )\n",
        "  layer_1 = tf.nn.relu(layer_1)\n",
        "  \n",
        "  layer_2 = tf.add(tf.matmul(layer_1,weights['w2']), biases['b2'])\n",
        "  layer_2 = tf.nn.relu(layer_2)\n",
        "  \n",
        "  # Last Output layer with linear activation\n",
        "  out_layer = tf.matmul(layer_2, weights['out']) + biases['out']\n",
        "  return out_layer\n",
        "  "
      ],
      "execution_count": 0,
      "outputs": []
    },
    {
      "cell_type": "markdown",
      "metadata": {
        "id": "K0JteEAbXdPL",
        "colab_type": "text"
      },
      "source": [
        "<h4>Setting Hyper Parameters</h4>"
      ]
    },
    {
      "cell_type": "code",
      "metadata": {
        "id": "3FpcJ84YXiYc",
        "colab_type": "code",
        "colab": {}
      },
      "source": [
        "learning_rate = 0.01 # for update rule in optimization algorithm\n",
        "training_epochs = 20 \n",
        "batch_size = 100 # number of sample to work through before computing gradient"
      ],
      "execution_count": 0,
      "outputs": []
    },
    {
      "cell_type": "markdown",
      "metadata": {
        "id": "bIFGbnKoYHnc",
        "colab_type": "text"
      },
      "source": [
        "<h4>Neural Network Configuration</h4>"
      ]
    },
    {
      "cell_type": "markdown",
      "metadata": {
        "id": "vcDaAJDaj0YM",
        "colab_type": "text"
      },
      "source": [
        "<h3>Loss/Cost function</h3>"
      ]
    },
    {
      "cell_type": "markdown",
      "metadata": {
        "id": "Oa73-mMokEDY",
        "colab_type": "text"
      },
      "source": [
        "The cost function gives an idea of how far the predicted output of our model is from the actual value. Since this is a classification problem we use cross entopy as the loss function"
      ]
    },
    {
      "cell_type": "code",
      "metadata": {
        "id": "VvbF1HQ3bi86",
        "colab_type": "code",
        "colab": {}
      },
      "source": [
        "pred = MultilayerPerceptron(x,weights, biases)"
      ],
      "execution_count": 0,
      "outputs": []
    },
    {
      "cell_type": "code",
      "metadata": {
        "id": "LpkqvoQscbtG",
        "colab_type": "code",
        "colab": {}
      },
      "source": [
        "cost = tf.reduce_mean(tf.nn.softmax_cross_entropy_with_logits(logits=pred,labels=y))\n"
      ],
      "execution_count": 0,
      "outputs": []
    },
    {
      "cell_type": "markdown",
      "metadata": {
        "id": "O1JXEqhYk93F",
        "colab_type": "text"
      },
      "source": [
        "<h3> Optimization Algorithm </h3>"
      ]
    },
    {
      "cell_type": "markdown",
      "metadata": {
        "id": "QRyup012kdPH",
        "colab_type": "text"
      },
      "source": [
        "The optimization algorithm modifies the weights and biases such that the loss(i.e cross entropy b/w predicted and true distribution) is minimum. Here we use the Adam optimizer"
      ]
    },
    {
      "cell_type": "code",
      "metadata": {
        "id": "yJ-JdD8KaNUu",
        "colab_type": "code",
        "colab": {}
      },
      "source": [
        "optimizer = tf.train.AdamOptimizer(learning_rate = learning_rate).minimize(cost)"
      ],
      "execution_count": 0,
      "outputs": []
    },
    {
      "cell_type": "markdown",
      "metadata": {
        "id": "msAvrDy3lRDr",
        "colab_type": "text"
      },
      "source": [
        "<h3> Performance Metrics </h3>"
      ]
    },
    {
      "cell_type": "code",
      "metadata": {
        "id": "3uPNIBH6b2i0",
        "colab_type": "code",
        "colab": {}
      },
      "source": [
        ""
      ],
      "execution_count": 0,
      "outputs": []
    },
    {
      "cell_type": "markdown",
      "metadata": {
        "id": "PLAxz76vldqC",
        "colab_type": "text"
      },
      "source": [
        "<h2> Running TensorFlow </h2>"
      ]
    },
    {
      "cell_type": "markdown",
      "metadata": {
        "id": "cYJ_fqNqlwVd",
        "colab_type": "text"
      },
      "source": [
        "<h3> Creating TensorFlow Session </h3>"
      ]
    },
    {
      "cell_type": "markdown",
      "metadata": {
        "id": "HkN5lGG8l6cf",
        "colab_type": "text"
      },
      "source": [
        "TensorFlow session is used to execute the computational graph"
      ]
    },
    {
      "cell_type": "code",
      "metadata": {
        "id": "Rx3ZSto0lofm",
        "colab_type": "code",
        "colab": {}
      },
      "source": [
        "sess = tf.Session()"
      ],
      "execution_count": 0,
      "outputs": []
    },
    {
      "cell_type": "markdown",
      "metadata": {
        "id": "27aUS0_fmFVG",
        "colab_type": "text"
      },
      "source": [
        "<h3>Initialise variables </h3>"
      ]
    },
    {
      "cell_type": "code",
      "metadata": {
        "id": "nfVAg0fOcbbP",
        "colab_type": "code",
        "colab": {}
      },
      "source": [
        "init = tf.initialize_all_variables()\n",
        "sess.run(init)\n"
      ],
      "execution_count": 0,
      "outputs": []
    },
    {
      "cell_type": "code",
      "metadata": {
        "id": "dVhLU6g8cbOM",
        "colab_type": "code",
        "colab": {}
      },
      "source": [
        ""
      ],
      "execution_count": 0,
      "outputs": []
    },
    {
      "cell_type": "code",
      "metadata": {
        "id": "QHgQE5ELeE4u",
        "colab_type": "code",
        "colab": {}
      },
      "source": [
        "Xsamp, ysamp = mnist.train.next_batch(5)"
      ],
      "execution_count": 0,
      "outputs": []
    },
    {
      "cell_type": "code",
      "metadata": {
        "id": "FMeyJCl-eWQR",
        "colab_type": "code",
        "outputId": "f0ffdc32-dd9c-43d6-d76d-2bed707c86ec",
        "colab": {
          "base_uri": "https://localhost:8080/",
          "height": 370
        }
      },
      "source": [
        "\n",
        "sess = tf.InteractiveSession()\n",
        "\n",
        "\n",
        "for epoch in range(training_epochs):\n",
        "  \n",
        "  avg_cost = 0\n",
        "  \n",
        "  total_batch = int(n_samples/batch_size)\n",
        "  \n",
        "  for i in range(total_batch):\n",
        "    # Get a batch of training examples.\n",
        "    # x_batch now holds a batch of images and\n",
        "    # y_true_batch are the true labels for those images.\n",
        "        \n",
        "    batch_x, batch_y = mnist.train.next_batch(batch_size)\n",
        "    \n",
        "    # Run the optimizer using this batch of training data\n",
        "    _,c = sess.run([optimizer,cost], feed_dict={x:batch_x , y:batch_y})\n",
        "    \n",
        "    avg_cost += c/total_batch\n",
        "    \n",
        "  print(\"Epoch: {} cost={:.4f}\".format(epoch+1,avg_cost))\n",
        "\n",
        "\n",
        "print(\"Model has completed {} Epochs of Training\".format(training_epochs))"
      ],
      "execution_count": 89,
      "outputs": [
        {
          "output_type": "stream",
          "text": [
            "Epoch: 1 cost=43.3896\n",
            "Epoch: 2 cost=8.5403\n",
            "Epoch: 3 cost=4.4967\n",
            "Epoch: 4 cost=3.0836\n",
            "Epoch: 5 cost=2.5324\n",
            "Epoch: 6 cost=2.1901\n",
            "Epoch: 7 cost=2.2042\n",
            "Epoch: 8 cost=1.9710\n",
            "Epoch: 9 cost=1.6569\n",
            "Epoch: 10 cost=1.3253\n",
            "Epoch: 11 cost=1.1333\n",
            "Epoch: 12 cost=1.0775\n",
            "Epoch: 13 cost=0.9647\n",
            "Epoch: 14 cost=1.0125\n",
            "Epoch: 15 cost=0.6932\n",
            "Epoch: 16 cost=0.6064\n",
            "Epoch: 17 cost=0.7857\n",
            "Epoch: 18 cost=0.5471\n",
            "Epoch: 19 cost=0.5239\n",
            "Epoch: 20 cost=0.4459\n",
            "Model has completed 20 Epochs of Training\n"
          ],
          "name": "stdout"
        }
      ]
    },
    {
      "cell_type": "code",
      "metadata": {
        "id": "TH4wDxO4fwPY",
        "colab_type": "code",
        "colab": {}
      },
      "source": [
        ""
      ],
      "execution_count": 0,
      "outputs": []
    },
    {
      "cell_type": "markdown",
      "metadata": {
        "id": "bUwfvrORnzew",
        "colab_type": "text"
      },
      "source": [
        "Compute Model Accuracy on Test Data"
      ]
    },
    {
      "cell_type": "code",
      "metadata": {
        "id": "fX5XxM9rlBeq",
        "colab_type": "code",
        "colab": {}
      },
      "source": [
        "correct_predictions = tf.equal(tf.argmax(pred,1), tf.argmax(y,1))"
      ],
      "execution_count": 0,
      "outputs": []
    },
    {
      "cell_type": "code",
      "metadata": {
        "id": "SJSYGTnIlUSc",
        "colab_type": "code",
        "colab": {}
      },
      "source": [
        "correct_predictions = tf.cast(correct_predictions,'float')"
      ],
      "execution_count": 0,
      "outputs": []
    },
    {
      "cell_type": "code",
      "metadata": {
        "id": "0NZEsa3HlcLq",
        "colab_type": "code",
        "outputId": "4bd2fa0c-3226-4de9-bc15-f217f7951f27",
        "colab": {
          "base_uri": "https://localhost:8080/",
          "height": 34
        }
      },
      "source": [
        "print(correct_predictions[0])"
      ],
      "execution_count": 92,
      "outputs": [
        {
          "output_type": "stream",
          "text": [
            "Tensor(\"strided_slice_1:0\", shape=(), dtype=float32)\n"
          ],
          "name": "stdout"
        }
      ]
    },
    {
      "cell_type": "code",
      "metadata": {
        "id": "CtD1uqa4ledr",
        "colab_type": "code",
        "colab": {}
      },
      "source": [
        "accuracy = tf.reduce_mean(correct_predictions)"
      ],
      "execution_count": 0,
      "outputs": []
    },
    {
      "cell_type": "code",
      "metadata": {
        "id": "J7MGwRJGloFX",
        "colab_type": "code",
        "outputId": "7e7c8371-e80f-40fe-acc4-c969b551e559",
        "colab": {
          "base_uri": "https://localhost:8080/",
          "height": 34
        }
      },
      "source": [
        "type(accuracy)"
      ],
      "execution_count": 94,
      "outputs": [
        {
          "output_type": "execute_result",
          "data": {
            "text/plain": [
              "tensorflow.python.framework.ops.Tensor"
            ]
          },
          "metadata": {
            "tags": []
          },
          "execution_count": 94
        }
      ]
    },
    {
      "cell_type": "code",
      "metadata": {
        "id": "TdkCl5hrlp5f",
        "colab_type": "code",
        "outputId": "00caa3a8-836d-4836-adfb-8e71bc5f691e",
        "colab": {
          "base_uri": "https://localhost:8080/",
          "height": 34
        }
      },
      "source": [
        "print(\"Accuracy:\", sess.run(accuracy,{x: mnist.test.images, y: mnist.test.labels}))"
      ],
      "execution_count": 96,
      "outputs": [
        {
          "output_type": "stream",
          "text": [
            "Accuracy: 0.9622\n"
          ],
          "name": "stdout"
        }
      ]
    },
    {
      "cell_type": "code",
      "metadata": {
        "id": "3tWLqJ3Rly-6",
        "colab_type": "code",
        "colab": {}
      },
      "source": [
        ""
      ],
      "execution_count": 0,
      "outputs": []
    }
  ]
}